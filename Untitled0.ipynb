{
  "nbformat": 4,
  "nbformat_minor": 0,
  "metadata": {
    "colab": {
      "name": "Untitled0.ipynb",
      "provenance": [],
      "authorship_tag": "ABX9TyMnQcKZZtsl3mJsyogKSya4",
      "include_colab_link": true
    },
    "kernelspec": {
      "name": "python3",
      "display_name": "Python 3"
    },
    "language_info": {
      "name": "python"
    }
  },
  "cells": [
    {
      "cell_type": "markdown",
      "metadata": {
        "id": "view-in-github",
        "colab_type": "text"
      },
      "source": [
        "<a href=\"https://colab.research.google.com/github/WesleyIsney/Python-Udemy/blob/main/Untitled0.ipynb\" target=\"_parent\"><img src=\"https://colab.research.google.com/assets/colab-badge.svg\" alt=\"Open In Colab\"/></a>"
      ]
    },
    {
      "cell_type": "markdown",
      "source": [
        "#Python para finanças"
      ],
      "metadata": {
        "id": "bv9mxCMZNh-g"
      }
    },
    {
      "cell_type": "code",
      "execution_count": null,
      "metadata": {
        "id": "9I33JpsVMZTG"
      },
      "outputs": [],
      "source": [
        "!pip install -q yfinance"
      ]
    },
    {
      "cell_type": "markdown",
      "source": [
        "####*Importação das blilbiotecas*\n"
      ],
      "metadata": {
        "id": "CqEL6DxPNyQg"
      }
    },
    {
      "cell_type": "code",
      "source": [
        "import pandas as pd \n",
        "import numpy as np\n",
        "from pandas_datareader import data\n",
        "import matplotlib.pyplot as plt\n",
        "import seaborn as sns\n",
        "import plotly.express as px\n",
        "import yfinance as yf"
      ],
      "metadata": {
        "id": "jTEEf7u4Mjk9"
      },
      "execution_count": null,
      "outputs": []
    },
    {
      "cell_type": "markdown",
      "source": [
        "#####*Comentarios*"
      ],
      "metadata": {
        "id": "XEmx-hokNf7M"
      }
    },
    {
      "cell_type": "code",
      "source": [
        "#pandas, utilizada para trabalhar com DataFrames(tabelas em memorias) \n",
        "#Numpy, bliblioteca matematica numerica Cientifica, \n",
        "#datereader, carregar dados financeiros da internet\n",
        "#matplotlib.pyplot, utilizada para a visualização dos dados em python(Grafico estatico)\n",
        "#Seaborn, bliblioteca grafica avançada(Grafico estatico)\n",
        "#plotly.explress, utilizado para gerar graficos interativos. (grafico interativo)"
      ],
      "metadata": {
        "id": "kmiIzJvpONHo"
      },
      "execution_count": null,
      "outputs": []
    },
    {
      "cell_type": "markdown",
      "source": [
        "###*Base de dados com uma ação*"
      ],
      "metadata": {
        "id": "ngBpBfKNQt7Z"
      }
    },
    {
      "cell_type": "code",
      "source": [
        "#gol_df = data.DataReader(name='GOLL4.SA', data_source='yahoo', start='2015-01-01')\n",
        "gol_df = yf.download(\"GOLL4.SA\", start='2015-01-01')"
      ],
      "metadata": {
        "colab": {
          "base_uri": "https://localhost:8080/"
        },
        "id": "9o42JEngXn51",
        "outputId": "20aaa552-308b-48fe-c4ed-d1ad1ea6343e"
      },
      "execution_count": null,
      "outputs": [
        {
          "output_type": "stream",
          "name": "stdout",
          "text": [
            "\r[*********************100%***********************]  1 of 1 completed\n"
          ]
        }
      ]
    },
    {
      "cell_type": "code",
      "source": [
        "gol_df"
      ],
      "metadata": {
        "colab": {
          "base_uri": "https://localhost:8080/",
          "height": 455
        },
        "id": "x5ZZPnWoaFA7",
        "outputId": "017b085c-4253-4c52-fe92-8038dc3d50f4"
      },
      "execution_count": null,
      "outputs": [
        {
          "output_type": "execute_result",
          "data": {
            "text/plain": [
              "             Open   High    Low  Close  Adj Close    Volume\n",
              "Date                                                       \n",
              "2015-01-02  14.97  15.20  14.61  14.99      14.99    901900\n",
              "2015-01-05  14.90  15.01  14.41  14.85      14.85   1272500\n",
              "2015-01-06  14.75  15.21  14.65  15.21      15.21   2183500\n",
              "2015-01-07  15.15  15.33  14.55  14.55      14.55   1846900\n",
              "2015-01-08  14.41  14.65  14.20  14.27      14.27   1569500\n",
              "...           ...    ...    ...    ...        ...       ...\n",
              "2022-07-27   8.23   9.05   8.23   9.03       9.03  12644000\n",
              "2022-07-28   8.92   8.94   8.48   8.61       8.61  11384500\n",
              "2022-07-29   8.60   8.72   8.34   8.36       8.36   7234400\n",
              "2022-08-01   8.36   8.61   8.13   8.54       8.54   6491300\n",
              "2022-08-02   8.46   8.57   8.32   8.37       8.37   5627900\n",
              "\n",
              "[1885 rows x 6 columns]"
            ],
            "text/html": [
              "\n",
              "  <div id=\"df-e8767e25-6f9d-4d71-b123-c90a43cb0224\">\n",
              "    <div class=\"colab-df-container\">\n",
              "      <div>\n",
              "<style scoped>\n",
              "    .dataframe tbody tr th:only-of-type {\n",
              "        vertical-align: middle;\n",
              "    }\n",
              "\n",
              "    .dataframe tbody tr th {\n",
              "        vertical-align: top;\n",
              "    }\n",
              "\n",
              "    .dataframe thead th {\n",
              "        text-align: right;\n",
              "    }\n",
              "</style>\n",
              "<table border=\"1\" class=\"dataframe\">\n",
              "  <thead>\n",
              "    <tr style=\"text-align: right;\">\n",
              "      <th></th>\n",
              "      <th>Open</th>\n",
              "      <th>High</th>\n",
              "      <th>Low</th>\n",
              "      <th>Close</th>\n",
              "      <th>Adj Close</th>\n",
              "      <th>Volume</th>\n",
              "    </tr>\n",
              "    <tr>\n",
              "      <th>Date</th>\n",
              "      <th></th>\n",
              "      <th></th>\n",
              "      <th></th>\n",
              "      <th></th>\n",
              "      <th></th>\n",
              "      <th></th>\n",
              "    </tr>\n",
              "  </thead>\n",
              "  <tbody>\n",
              "    <tr>\n",
              "      <th>2015-01-02</th>\n",
              "      <td>14.97</td>\n",
              "      <td>15.20</td>\n",
              "      <td>14.61</td>\n",
              "      <td>14.99</td>\n",
              "      <td>14.99</td>\n",
              "      <td>901900</td>\n",
              "    </tr>\n",
              "    <tr>\n",
              "      <th>2015-01-05</th>\n",
              "      <td>14.90</td>\n",
              "      <td>15.01</td>\n",
              "      <td>14.41</td>\n",
              "      <td>14.85</td>\n",
              "      <td>14.85</td>\n",
              "      <td>1272500</td>\n",
              "    </tr>\n",
              "    <tr>\n",
              "      <th>2015-01-06</th>\n",
              "      <td>14.75</td>\n",
              "      <td>15.21</td>\n",
              "      <td>14.65</td>\n",
              "      <td>15.21</td>\n",
              "      <td>15.21</td>\n",
              "      <td>2183500</td>\n",
              "    </tr>\n",
              "    <tr>\n",
              "      <th>2015-01-07</th>\n",
              "      <td>15.15</td>\n",
              "      <td>15.33</td>\n",
              "      <td>14.55</td>\n",
              "      <td>14.55</td>\n",
              "      <td>14.55</td>\n",
              "      <td>1846900</td>\n",
              "    </tr>\n",
              "    <tr>\n",
              "      <th>2015-01-08</th>\n",
              "      <td>14.41</td>\n",
              "      <td>14.65</td>\n",
              "      <td>14.20</td>\n",
              "      <td>14.27</td>\n",
              "      <td>14.27</td>\n",
              "      <td>1569500</td>\n",
              "    </tr>\n",
              "    <tr>\n",
              "      <th>...</th>\n",
              "      <td>...</td>\n",
              "      <td>...</td>\n",
              "      <td>...</td>\n",
              "      <td>...</td>\n",
              "      <td>...</td>\n",
              "      <td>...</td>\n",
              "    </tr>\n",
              "    <tr>\n",
              "      <th>2022-07-27</th>\n",
              "      <td>8.23</td>\n",
              "      <td>9.05</td>\n",
              "      <td>8.23</td>\n",
              "      <td>9.03</td>\n",
              "      <td>9.03</td>\n",
              "      <td>12644000</td>\n",
              "    </tr>\n",
              "    <tr>\n",
              "      <th>2022-07-28</th>\n",
              "      <td>8.92</td>\n",
              "      <td>8.94</td>\n",
              "      <td>8.48</td>\n",
              "      <td>8.61</td>\n",
              "      <td>8.61</td>\n",
              "      <td>11384500</td>\n",
              "    </tr>\n",
              "    <tr>\n",
              "      <th>2022-07-29</th>\n",
              "      <td>8.60</td>\n",
              "      <td>8.72</td>\n",
              "      <td>8.34</td>\n",
              "      <td>8.36</td>\n",
              "      <td>8.36</td>\n",
              "      <td>7234400</td>\n",
              "    </tr>\n",
              "    <tr>\n",
              "      <th>2022-08-01</th>\n",
              "      <td>8.36</td>\n",
              "      <td>8.61</td>\n",
              "      <td>8.13</td>\n",
              "      <td>8.54</td>\n",
              "      <td>8.54</td>\n",
              "      <td>6491300</td>\n",
              "    </tr>\n",
              "    <tr>\n",
              "      <th>2022-08-02</th>\n",
              "      <td>8.46</td>\n",
              "      <td>8.57</td>\n",
              "      <td>8.32</td>\n",
              "      <td>8.37</td>\n",
              "      <td>8.37</td>\n",
              "      <td>5627900</td>\n",
              "    </tr>\n",
              "  </tbody>\n",
              "</table>\n",
              "<p>1885 rows × 6 columns</p>\n",
              "</div>\n",
              "      <button class=\"colab-df-convert\" onclick=\"convertToInteractive('df-e8767e25-6f9d-4d71-b123-c90a43cb0224')\"\n",
              "              title=\"Convert this dataframe to an interactive table.\"\n",
              "              style=\"display:none;\">\n",
              "        \n",
              "  <svg xmlns=\"http://www.w3.org/2000/svg\" height=\"24px\"viewBox=\"0 0 24 24\"\n",
              "       width=\"24px\">\n",
              "    <path d=\"M0 0h24v24H0V0z\" fill=\"none\"/>\n",
              "    <path d=\"M18.56 5.44l.94 2.06.94-2.06 2.06-.94-2.06-.94-.94-2.06-.94 2.06-2.06.94zm-11 1L8.5 8.5l.94-2.06 2.06-.94-2.06-.94L8.5 2.5l-.94 2.06-2.06.94zm10 10l.94 2.06.94-2.06 2.06-.94-2.06-.94-.94-2.06-.94 2.06-2.06.94z\"/><path d=\"M17.41 7.96l-1.37-1.37c-.4-.4-.92-.59-1.43-.59-.52 0-1.04.2-1.43.59L10.3 9.45l-7.72 7.72c-.78.78-.78 2.05 0 2.83L4 21.41c.39.39.9.59 1.41.59.51 0 1.02-.2 1.41-.59l7.78-7.78 2.81-2.81c.8-.78.8-2.07 0-2.86zM5.41 20L4 18.59l7.72-7.72 1.47 1.35L5.41 20z\"/>\n",
              "  </svg>\n",
              "      </button>\n",
              "      \n",
              "  <style>\n",
              "    .colab-df-container {\n",
              "      display:flex;\n",
              "      flex-wrap:wrap;\n",
              "      gap: 12px;\n",
              "    }\n",
              "\n",
              "    .colab-df-convert {\n",
              "      background-color: #E8F0FE;\n",
              "      border: none;\n",
              "      border-radius: 50%;\n",
              "      cursor: pointer;\n",
              "      display: none;\n",
              "      fill: #1967D2;\n",
              "      height: 32px;\n",
              "      padding: 0 0 0 0;\n",
              "      width: 32px;\n",
              "    }\n",
              "\n",
              "    .colab-df-convert:hover {\n",
              "      background-color: #E2EBFA;\n",
              "      box-shadow: 0px 1px 2px rgba(60, 64, 67, 0.3), 0px 1px 3px 1px rgba(60, 64, 67, 0.15);\n",
              "      fill: #174EA6;\n",
              "    }\n",
              "\n",
              "    [theme=dark] .colab-df-convert {\n",
              "      background-color: #3B4455;\n",
              "      fill: #D2E3FC;\n",
              "    }\n",
              "\n",
              "    [theme=dark] .colab-df-convert:hover {\n",
              "      background-color: #434B5C;\n",
              "      box-shadow: 0px 1px 3px 1px rgba(0, 0, 0, 0.15);\n",
              "      filter: drop-shadow(0px 1px 2px rgba(0, 0, 0, 0.3));\n",
              "      fill: #FFFFFF;\n",
              "    }\n",
              "  </style>\n",
              "\n",
              "      <script>\n",
              "        const buttonEl =\n",
              "          document.querySelector('#df-e8767e25-6f9d-4d71-b123-c90a43cb0224 button.colab-df-convert');\n",
              "        buttonEl.style.display =\n",
              "          google.colab.kernel.accessAllowed ? 'block' : 'none';\n",
              "\n",
              "        async function convertToInteractive(key) {\n",
              "          const element = document.querySelector('#df-e8767e25-6f9d-4d71-b123-c90a43cb0224');\n",
              "          const dataTable =\n",
              "            await google.colab.kernel.invokeFunction('convertToInteractive',\n",
              "                                                     [key], {});\n",
              "          if (!dataTable) return;\n",
              "\n",
              "          const docLinkHtml = 'Like what you see? Visit the ' +\n",
              "            '<a target=\"_blank\" href=https://colab.research.google.com/notebooks/data_table.ipynb>data table notebook</a>'\n",
              "            + ' to learn more about interactive tables.';\n",
              "          element.innerHTML = '';\n",
              "          dataTable['output_type'] = 'display_data';\n",
              "          await google.colab.output.renderOutput(dataTable, element);\n",
              "          const docLink = document.createElement('div');\n",
              "          docLink.innerHTML = docLinkHtml;\n",
              "          element.appendChild(docLink);\n",
              "        }\n",
              "      </script>\n",
              "    </div>\n",
              "  </div>\n",
              "  "
            ]
          },
          "metadata": {},
          "execution_count": 23
        }
      ]
    },
    {
      "cell_type": "markdown",
      "source": [
        "#Funções Para o Python"
      ],
      "metadata": {
        "id": "bscZSCh_4F0j"
      }
    },
    {
      "cell_type": "code",
      "source": [
        "resposta = input('Você esta Gostando do Atendimento?')\n",
        "if resposta == 'sim':\n",
        "      print('Obrigado =D')\n",
        "elif resposta == 'não':\n",
        "      input('No que posso melhorar?')\n",
        "else:\n",
        "      print('Grato!')"
      ],
      "metadata": {
        "id": "UEUB67HNn7f0"
      },
      "execution_count": null,
      "outputs": []
    },
    {
      "cell_type": "code",
      "source": [
        "#o For é um laço infinito\n",
        "def primeira_funcao_funcao():\n",
        "    print('hello Word')"
      ],
      "metadata": {
        "id": "a-zqPXfNqd1Y"
      },
      "execution_count": null,
      "outputs": []
    },
    {
      "cell_type": "code",
      "source": [
        "primeira_funcao_funcao()"
      ],
      "metadata": {
        "colab": {
          "base_uri": "https://localhost:8080/"
        },
        "id": "-g_l35JwxvAF",
        "outputId": "7da77a42-c325-493e-a2fe-2553bfa2e0e1"
      },
      "execution_count": null,
      "outputs": [
        {
          "output_type": "stream",
          "name": "stdout",
          "text": [
            "hello Word\n"
          ]
        }
      ]
    },
    {
      "cell_type": "code",
      "source": [
        "def calculo_medio(nota1, nota2):\n",
        "    return(nota1 + nota2) / 2 \n"
      ],
      "metadata": {
        "id": "eLZM6kOVx__R"
      },
      "execution_count": null,
      "outputs": []
    },
    {
      "cell_type": "code",
      "source": [
        "calculo_medio(10, 8)"
      ],
      "metadata": {
        "colab": {
          "base_uri": "https://localhost:8080/"
        },
        "id": "oh0ZVYVvyJAx",
        "outputId": "6ef5ff0d-9941-4818-ee11-892d766f50d1"
      },
      "execution_count": null,
      "outputs": [
        {
          "output_type": "execute_result",
          "data": {
            "text/plain": [
              "9.0"
            ]
          },
          "metadata": {},
          "execution_count": 43
        }
      ]
    },
    {
      "cell_type": "code",
      "source": [
        "def Calculo(Num1, Num2, operador):\n",
        "   operador = {'soma': Num1+ Num2,\n",
        "               'subtracao': Num1 - Num2,\n",
        "               'divisao': Num1 / Num2,\n",
        "               'Multiplicacao': Num1 * Num2}"
      ],
      "metadata": {
        "id": "qJoiW1V6ymtQ"
      },
      "execution_count": null,
      "outputs": []
    },
    {
      "cell_type": "code",
      "source": [
        "Num1 = input('Digite o primeiro numero: ')\n",
        "Num2 = input('Digite o Segundo numero: ')\n",
        "Calculo = input('Qual o Tipo de Operação:')\n",
        "if Calculo == '+':\n",
        "  print('Resultado da Soma: ', int(Num1) + int(Num2))\n",
        "elif Calculo == '-':\n",
        "  print('Resultado da subitracao: ', int(Num1) - int(Num2))\n",
        "elif Calculo == '*':\n",
        "  print('Resultado da Multiplicaçao: ', int(Num1) * int(Num2))\n",
        "elif Calculo == '/':\n",
        "  print('Resultado da Divisão: ', int(Num1) / int(Num2))\n",
        "else:\n",
        "  print('Digite um Operador Valido!')"
      ],
      "metadata": {
        "colab": {
          "base_uri": "https://localhost:8080/"
        },
        "id": "pwk6a7Y81Egu",
        "outputId": "71bb4f9e-575c-4282-d3b3-f229f3877373"
      },
      "execution_count": null,
      "outputs": [
        {
          "output_type": "stream",
          "name": "stdout",
          "text": [
            "Digite o primeiro numero: 5\n",
            "Digite o Segundo numero: 5\n",
            "Qual o Tipo de Operação:-\n",
            "Resultado da subitracao:  0\n"
          ]
        }
      ]
    }
  ]
}